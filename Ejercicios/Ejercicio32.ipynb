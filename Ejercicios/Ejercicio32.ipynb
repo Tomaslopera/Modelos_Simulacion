{
 "cells": [
  {
   "cell_type": "code",
   "execution_count": 1,
   "metadata": {},
   "outputs": [],
   "source": [
    "import pandas as pd\n",
    "import numpy as np\n",
    "import matplotlib.pyplot as plt\n",
    "import seaborn as sns\n",
    "from scipy.stats import rv_histogram, rv_discrete, binom\n",
    "from statsmodels.distributions.empirical_distribution import ECDF"
   ]
  },
  {
   "cell_type": "markdown",
   "metadata": {},
   "source": [
    "### Entradas conocidas"
   ]
  },
  {
   "cell_type": "code",
   "execution_count": 57,
   "metadata": {},
   "outputs": [],
   "source": [
    "datos = pd.read_excel('Datos/Ejercicio_32.xlsx')\n",
    "trials = 5000"
   ]
  },
  {
   "cell_type": "code",
   "execution_count": 7,
   "metadata": {},
   "outputs": [],
   "source": [
    "reservations = datos[\"Reservations\"].values\n",
    "probabilities = datos[\"Probability\"].values"
   ]
  },
  {
   "cell_type": "markdown",
   "metadata": {},
   "source": [
    "### Variables de decisión"
   ]
  },
  {
   "cell_type": "code",
   "execution_count": 43,
   "metadata": {},
   "outputs": [],
   "source": [
    "seed = 1234\n",
    "ingreso_c = [2000, 2000, 1500, 1500]\n",
    "prob_c = [0.25, 0.25, 0.4, 0.4]\n",
    "min_reunion_c = [3, 1, 3, 1]"
   ]
  },
  {
   "cell_type": "markdown",
   "metadata": {},
   "source": [
    "### Entradas inciertas"
   ]
  },
  {
   "cell_type": "code",
   "execution_count": 59,
   "metadata": {},
   "outputs": [
    {
     "name": "stdout",
     "output_type": "stream",
     "text": [
      "3\n"
     ]
    }
   ],
   "source": [
    "def gen_reserva():\n",
    "    return rv_discrete(name='c_reservas', values=(reservations, probabilities)).rvs(size=1)[0]\n",
    "\n",
    "print(gen_reserva())"
   ]
  },
  {
   "cell_type": "markdown",
   "metadata": {},
   "source": [
    "### Cálculos intermedios"
   ]
  },
  {
   "cell_type": "code",
   "execution_count": 61,
   "metadata": {},
   "outputs": [],
   "source": [
    "def simular(ingreso_c, prob_c, min_reunion_c):\n",
    "    nro_reservas = gen_reserva()\n",
    "    if nro_reservas < min_reunion_c:\n",
    "        nro_cirugias = 0\n",
    "    else:\n",
    "        nro_cirugias = binom.rvs(n=nro_reservas, p=prob_c, size=1)[0]\n",
    "    ingreso_c = nro_cirugias*ingreso_c\n",
    "    \n",
    "    return ingreso_c"
   ]
  },
  {
   "cell_type": "markdown",
   "metadata": {},
   "source": [
    "### Salidas"
   ]
  },
  {
   "cell_type": "code",
   "execution_count": 67,
   "metadata": {},
   "outputs": [
    {
     "name": "stdout",
     "output_type": "stream",
     "text": [
      "Ingreso: 2000, Prob: 0.25, Reunion: 3, 2056.0\n",
      "Ingreso: 2000, Prob: 0.25, Reunion: 1, 2212.0\n",
      "Ingreso: 1500, Prob: 0.4, Reunion: 3, 2458.8\n",
      "Ingreso: 1500, Prob: 0.4, Reunion: 1, 2595.0\n"
     ]
    }
   ],
   "source": [
    "resultados = {}\n",
    "for ingreso, prob, reunion in zip(ingreso_c, prob_c, min_reunion_c):\n",
    "    vector_utilidades = []\n",
    "    for i in range(trials):\n",
    "        vector_utilidades.append(simular(ingreso, prob, reunion))\n",
    "    key = f'Ingreso: {ingreso}, Prob: {prob}, Reunion: {reunion}'\n",
    "    resultados[key] = vector_utilidades\n",
    "    print(f'Ingreso: {ingreso}, Prob: {prob}, Reunion: {reunion}, {np.mean(vector_utilidades)}')"
   ]
  },
  {
   "cell_type": "markdown",
   "metadata": {},
   "source": [
    "### Código Tarea"
   ]
  },
  {
   "cell_type": "code",
   "execution_count": null,
   "metadata": {},
   "outputs": [],
   "source": [
    "hist, bin_edges = np.histogram(reservations, bins=len(reservations), weights=probabilities)\n",
    "dist = rv_histogram((hist, bin_edges))"
   ]
  },
  {
   "cell_type": "code",
   "execution_count": 28,
   "metadata": {},
   "outputs": [],
   "source": [
    "probabilidad_cirugia = 0.25\n",
    "costo_cirugia = 2000\n",
    "costo_cirugia_reducido = 1500\n",
    "probabilidad_cirugia_reducido = 0.40"
   ]
  },
  {
   "cell_type": "code",
   "execution_count": 36,
   "metadata": {},
   "outputs": [
    {
     "name": "stdout",
     "output_type": "stream",
     "text": [
      "4.159999999999999\n"
     ]
    }
   ],
   "source": [
    "asistentes_esperados = np.sum(np.where(reservations > 2, reservations, 0) * probabilities)\n",
    "\n",
    "print(asistentes_esperados)"
   ]
  },
  {
   "cell_type": "markdown",
   "metadata": {},
   "source": [
    "#### Ingreso esperado con cancelación de sesiones con dos o menos reservas"
   ]
  },
  {
   "cell_type": "code",
   "execution_count": 38,
   "metadata": {},
   "outputs": [
    {
     "name": "stdout",
     "output_type": "stream",
     "text": [
      "Ingreso esperado por semana: $2080.00\n"
     ]
    }
   ],
   "source": [
    "asistentes_esperados = np.sum(np.where(reservations > 2, reservations, 0) * probabilities)\n",
    "\n",
    "cirugias_esperadas = probabilidad_cirugia * asistentes_esperados\n",
    "\n",
    "costo_esperado = cirugias_esperadas * costo_cirugia\n",
    "\n",
    "print(f\"Ingreso esperado por semana: ${costo_esperado:.2f}\")"
   ]
  },
  {
   "cell_type": "markdown",
   "metadata": {},
   "source": [
    "#### Ingreso esperado si no se cancelan las sesiones con dos o menos reservas"
   ]
  },
  {
   "cell_type": "code",
   "execution_count": 40,
   "metadata": {},
   "outputs": [
    {
     "name": "stdout",
     "output_type": "stream",
     "text": [
      "Ingreso esperado por semana sin cancelaciones: $2213.64\n"
     ]
    }
   ],
   "source": [
    "reservas_esperadas = dist.mean()\n",
    "\n",
    "cirugias_esperadas_1 = probabilidad_cirugia * reservas_esperadas\n",
    "\n",
    "costo_esperado_1 = cirugias_esperadas_1 * costo_cirugia\n",
    "\n",
    "print(f\"Ingreso esperado por semana sin cancelaciones: ${costo_esperado_1:.2f}\")"
   ]
  },
  {
   "cell_type": "markdown",
   "metadata": {},
   "source": [
    "#### Ingreso esperado con precio reducido"
   ]
  },
  {
   "cell_type": "code",
   "execution_count": 42,
   "metadata": {},
   "outputs": [
    {
     "name": "stdout",
     "output_type": "stream",
     "text": [
      "Ingreso esperado por semana con precio reducido: $2496.00\n"
     ]
    }
   ],
   "source": [
    "cirugias_esperadas_2 = probabilidad_cirugia_reducido * asistentes_esperados\n",
    "\n",
    "costos_esperados_2 = cirugias_esperadas_2 * costo_cirugia_reducido\n",
    "\n",
    "print(f\"Ingreso esperado por semana con precio reducido: ${costos_esperados_2:.2f}\")"
   ]
  }
 ],
 "metadata": {
  "kernelspec": {
   "display_name": "data-science",
   "language": "python",
   "name": "python3"
  },
  "language_info": {
   "codemirror_mode": {
    "name": "ipython",
    "version": 3
   },
   "file_extension": ".py",
   "mimetype": "text/x-python",
   "name": "python",
   "nbconvert_exporter": "python",
   "pygments_lexer": "ipython3",
   "version": "3.11.9"
  }
 },
 "nbformat": 4,
 "nbformat_minor": 2
}
