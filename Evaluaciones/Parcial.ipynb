{
 "cells": [
  {
   "cell_type": "markdown",
   "metadata": {},
   "source": [
    "## <center>Parcial<center>\n",
    "\n",
    "##### Tomás Lopera Duque\n",
    "\n",
    "Representantes de la American Heart Association planean ir de puerta en puerta por toda la comunidad, solicitando contribuciones. Por experiencias pasadas, saben que cuando alguien abre la puerta, el 80% de las veces es una mujer y el 20% de las veces es un hombre. También saben que el 70% de las mujeres que abren la puerta hacen una donación, mientras que solo el 40% de los hombres que abren la puerta hacen donaciones. La cantidad de dinero que aportan las mujeres sigue una distribución normal con una media de $20 y una desviación estándar de $3. La cantidad de dinero que aportan los hombres sigue una distribución normal con una media de $10 y una desviación estándar de $2. "
   ]
  },
  {
   "cell_type": "code",
   "execution_count": 1,
   "metadata": {},
   "outputs": [],
   "source": [
    "import numpy as np\n",
    "import matplotlib.pyplot as plt\n",
    "import seaborn as sns\n",
    "import pandas as pd\n",
    "from scipy.stats import rv_histogram, rv_discrete, binom, norm\n",
    "from statsmodels.distributions.empirical_distribution import ECDF"
   ]
  },
  {
   "cell_type": "markdown",
   "metadata": {},
   "source": [
    "### 1. Entradas conocidas"
   ]
  },
  {
   "cell_type": "code",
   "execution_count": 64,
   "metadata": {},
   "outputs": [],
   "source": [
    "# Probabilidad de que una persona sea hombre o mujer\n",
    "prob_mujer = 0.80\n",
    "prob_hombre = 0.20\n",
    "\n",
    "# Probabilidad de que una persona done\n",
    "prob_donacion_mujer = 0.70\n",
    "prob_donacion_hombre = 0.40\n",
    "\n",
    "# Distribución normal mujeres ($)\n",
    "media_mujeres = 20\n",
    "desviacion_mujeres = 3\n",
    "\n",
    "# Distribución normal hombres ($)\n",
    "media_hombres = 10\n",
    "desviacion_hombres = 2\n",
    "\n",
    "# Trial\n",
    "N = 100000"
   ]
  },
  {
   "cell_type": "markdown",
   "metadata": {},
   "source": [
    "### 2. Variables de decisión\n",
    "\n",
    "- No existen en el problema"
   ]
  },
  {
   "cell_type": "markdown",
   "metadata": {},
   "source": [
    "### 3. Entradas inciertas"
   ]
  },
  {
   "cell_type": "code",
   "execution_count": 65,
   "metadata": {},
   "outputs": [],
   "source": [
    "dinero_mujeres = norm(loc=media_mujeres, scale=desviacion_mujeres)\n",
    "dinero_hombres = norm(loc=media_hombres, scale=desviacion_hombres)"
   ]
  },
  {
   "cell_type": "markdown",
   "metadata": {},
   "source": [
    "### 4. Calculos intermedios"
   ]
  },
  {
   "cell_type": "code",
   "execution_count": 95,
   "metadata": {},
   "outputs": [],
   "source": [
    "donaciones = []\n",
    "\n",
    "for _ in range(N):\n",
    "    if np.random.rand() < prob_mujer:\n",
    "        if np.random.rand() < prob_donacion_mujer:\n",
    "            donaciones.append(dinero_mujeres.rvs())\n",
    "        else:\n",
    "            donaciones.append(0)\n",
    "    else:\n",
    "        if np.random.rand() < prob_donacion_hombre:\n",
    "            donaciones.append(dinero_hombres.rvs())\n",
    "        else:\n",
    "            donaciones.append(0)"
   ]
  },
  {
   "cell_type": "markdown",
   "metadata": {},
   "source": [
    "### 5. Salidas\n",
    "\n",
    "##### b. Histograma"
   ]
  },
  {
   "cell_type": "code",
   "execution_count": 96,
   "metadata": {},
   "outputs": [
    {
     "data": {
      "image/png": "[encoded data removed]",
      "text/plain": [
       "<Figure size 640x480 with 1 Axes>"
      ]
     },
     "metadata": {},
     "output_type": "display_data"
    }
   ],
   "source": [
    "# Histograma de las donaciones\n",
    "sns.histplot(donaciones, bins=30, color=\"blue\")\n",
    "plt.xlabel(\"Donación total\")\n",
    "plt.ylabel(\"Frecuencia\")\n",
    "plt.title(\"Distribución de las donaciones\")\n",
    "plt.axvline(np.mean(donaciones), color=\"red\", label=f'Promedio: {np.mean(donaciones):.2f}', linestyle=\"--\")\n",
    "plt.legend()\n",
    "plt.grid()\n",
    "plt.show()"
   ]
  },
  {
   "cell_type": "markdown",
   "metadata": {},
   "source": [
    "##### c. Contribución promedio esperada"
   ]
  },
  {
   "cell_type": "code",
   "execution_count": 97,
   "metadata": {},
   "outputs": [
    {
     "name": "stdout",
     "output_type": "stream",
     "text": [
      "Contribución promedio esperada: $12.04\n"
     ]
    }
   ],
   "source": [
    "promedio_donacion = np.mean(donaciones)\n",
    "print(f\"Contribución promedio esperada: ${promedio_donacion:.2f}\")"
   ]
  },
  {
   "cell_type": "markdown",
   "metadata": {},
   "source": [
    "##### d. Monto total esperado para 300 hogares"
   ]
  },
  {
   "cell_type": "code",
   "execution_count": 98,
   "metadata": {},
   "outputs": [
    {
     "name": "stdout",
     "output_type": "stream",
     "text": [
      "Monto total esperado en 300 hogares: $2709.70\n"
     ]
    }
   ],
   "source": [
    "hogares = 300\n",
    "prob_presente = 0.75  # Si nadie está en casa en el 25% de los hogares, el 75% restante está presente\n",
    "\n",
    "monto_total_esperado = hogares * prob_presente * promedio_donacion\n",
    "print(f\"Monto total esperado en 300 hogares: ${monto_total_esperado:.2f}\")"
   ]
  },
  {
   "cell_type": "markdown",
   "metadata": {},
   "source": [
    "##### e. Probabilidad de contribución mayor a $21"
   ]
  },
  {
   "cell_type": "code",
   "execution_count": 99,
   "metadata": {},
   "outputs": [
    {
     "name": "stdout",
     "output_type": "stream",
     "text": [
      "Probabilidad de recibir más de $21 en una donación: 20.69%\n"
     ]
    }
   ],
   "source": [
    "prob_mayor_21 = np.sum(np.array(donaciones) > 21) / N\n",
    "print(f\"Probabilidad de recibir más de $21 en una donación: {prob_mayor_21:.2%}\")"
   ]
  }
 ],
 "metadata": {
  "kernelspec": {
   "display_name": "data-science",
   "language": "python",
   "name": "python3"
  },
  "language_info": {
   "codemirror_mode": {
    "name": "ipython",
    "version": 3
   },
   "file_extension": ".py",
   "mimetype": "text/x-python",
   "name": "python",
   "nbconvert_exporter": "python",
   "pygments_lexer": "ipython3",
   "version": "3.11.9"
  }
 },
 "nbformat": 4,
 "nbformat_minor": 2
}
